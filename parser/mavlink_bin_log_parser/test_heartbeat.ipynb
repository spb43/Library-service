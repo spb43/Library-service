{
 "cells": [
  {
   "cell_type": "code",
   "execution_count": 1,
   "id": "b49352ea-1771-4a42-897e-3fe4f0240895",
   "metadata": {
    "tags": []
   },
   "outputs": [],
   "source": [
    "from pymavlink import mavutil\n",
    "import json\n",
    "# Set the UDP connection parameters\n",
    "UDP_IP = '0.0.0.0'  # Replace this with the IP of your MAVLink source\n",
    "# UDP_IP = '192.168.1.29'\n",
    "UDP_PORT = 14550  # Change this to the port number your MAVLink source is using\n",
    "\n",
    "\n",
    "# Start a connection listening on a UDP port\n",
    "the_connection = mavutil.mavlink_connection(f'udpin:{UDP_IP}:{UDP_PORT}')\n",
    "\n",
    "# Receive and handle messages\n"
   ]
  },
  {
   "cell_type": "code",
   "execution_count": null,
   "id": "031b577b-b991-41dd-8357-7f435fd3a195",
   "metadata": {},
   "outputs": [],
   "source": [
    "# Wait for the heartbeat message to ensure a connection has been established\n",
    "the_connection.wait_heartbeat()\n",
    "\n",
    "# Request parameter list\n",
    "the_connection.param_fetch_all()"
   ]
  },
  {
   "cell_type": "code",
   "execution_count": null,
   "id": "b958c891-4196-411d-878f-32f69d91229e",
   "metadata": {
    "tags": []
   },
   "outputs": [],
   "source": [
    "# Assuming 'result.json' already exists with a list of dictionaries\n",
    "# try:\n",
    "#     with open('result.json', 'r') as fp:\n",
    "#         data = json.load(fp)\n",
    "# except FileNotFoundError:\n",
    "#     # If the file doesn't exist, create an empty list\n",
    "#     data = []\n",
    "# data = []\n",
    "while True:\n",
    "    ack_msg = the_connection.recv_match(blocking=True, timeout=10)\n",
    "    try:\n",
    "        ack_msg = ack_msg.to_dict()\n",
    "        print(\"MESSAGE:\", ack_msg)\n",
    "        # data.append(ack_msg)\n",
    "        # with open('result.json', 'w') as fp:\n",
    "        #     json.dump(data, fp, indent=2)\n",
    "    except:\n",
    "        print(\"timeout\")\n",
    "        break"
   ]
  },
  {
   "cell_type": "code",
   "execution_count": null,
   "id": "31ec2781-2bcb-4970-a82b-10f51f7bc180",
   "metadata": {
    "tags": []
   },
   "outputs": [],
   "source": [
    "# # Wait for the first heartbeat \n",
    "# #   This sets the system and component ID of remote system for the link\n",
    "# while(1):\n",
    "#     the_connection.wait_heartbeat()\n",
    "#     print(\"Heartbeat from system (system %u component %u)\" % (the_connection.target_system, the_connection.target_component))"
   ]
  },
  {
   "cell_type": "code",
   "execution_count": null,
   "id": "5d0ae88c-37fa-4647-a62f-e2f9f7726eb7",
   "metadata": {},
   "outputs": [],
   "source": [
    "# # Wait for parameter list to be received\n",
    "# while True:\n",
    "#     msg = the_connection.recv_match(type='PARAM_VALUE', blocking=True)\n",
    "#     if msg:\n",
    "#         # Extract parameter name\n",
    "#         # print(msg)\n",
    "#         # param_name = msg.param_id.decode('utf-8').strip('\\x00')  # Convert bytes to string and remove null terminators\n",
    "#         print(f\"Parameter Name: {msg.param_id}, Value: {msg.param_value}\")"
   ]
  },
  {
   "cell_type": "code",
   "execution_count": null,
   "id": "5aa06828-4043-4f20-b3ca-4e044630b6f4",
   "metadata": {},
   "outputs": [],
   "source": [
    "# the_connection.mav.param_request_list_send(\n",
    "#     the_connection.target_system, the_connection.target_component\n",
    "# )\n",
    "# while True:\n",
    "#     ack_msg = the_connection.recv_match(type='PARAM_VALUE',blocking=True, timeout=2.2)\n",
    "#     try:\n",
    "#         ack_msg = ack_msg.to_dict()\n",
    "# #         print(ack_msg);\n",
    "#         print('name: %s\\tvalue: %d' % (ack_msg['param_id'],ack_msg['param_value']))\n",
    "#     except:\n",
    "#         print(\"timeout\")\n",
    "#         break"
   ]
  }
 ],
 "metadata": {
  "kernelspec": {
   "display_name": "Python 3 (ipykernel)",
   "language": "python",
   "name": "python3"
  },
  "language_info": {
   "codemirror_mode": {
    "name": "ipython",
    "version": 3
   },
   "file_extension": ".py",
   "mimetype": "text/x-python",
   "name": "python",
   "nbconvert_exporter": "python",
   "pygments_lexer": "ipython3",
   "version": "3.10.12"
  }
 },
 "nbformat": 4,
 "nbformat_minor": 5
}
