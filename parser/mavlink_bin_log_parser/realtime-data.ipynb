{
 "cells": [
  {
   "cell_type": "code",
   "execution_count": 1,
   "id": "f4f4a02e-805f-462f-a545-8aa9e8d2bbb1",
   "metadata": {
    "tags": []
   },
   "outputs": [
    {
     "name": "stdout",
     "output_type": "stream",
     "text": [
      "Requirement already satisfied: pyorbital in /home/spb/anaconda3/lib/python3.11/site-packages (1.8.0)\n",
      "Requirement already satisfied: numpy>=1.19.0 in /home/spb/anaconda3/lib/python3.11/site-packages (from pyorbital) (1.24.3)\n",
      "Requirement already satisfied: scipy in /home/spb/anaconda3/lib/python3.11/site-packages (from pyorbital) (1.10.1)\n",
      "Requirement already satisfied: requests in /home/spb/anaconda3/lib/python3.11/site-packages (from pyorbital) (2.29.0)\n",
      "Requirement already satisfied: charset-normalizer<4,>=2 in /home/spb/anaconda3/lib/python3.11/site-packages (from requests->pyorbital) (2.0.4)\n",
      "Requirement already satisfied: idna<4,>=2.5 in /home/spb/anaconda3/lib/python3.11/site-packages (from requests->pyorbital) (3.4)\n",
      "Requirement already satisfied: urllib3<1.27,>=1.21.1 in /home/spb/anaconda3/lib/python3.11/site-packages (from requests->pyorbital) (1.26.16)\n",
      "Requirement already satisfied: certifi>=2017.4.17 in /home/spb/anaconda3/lib/python3.11/site-packages (from requests->pyorbital) (2023.5.7)\n"
     ]
    }
   ],
   "source": [
    "!pip install pyorbital"
   ]
  },
  {
   "cell_type": "code",
   "execution_count": 2,
   "id": "52b76f99-9a64-44a0-afa0-3fddc35d65e2",
   "metadata": {
    "tags": []
   },
   "outputs": [
    {
     "data": {
      "text/html": [
       "\n",
       "        <iframe\n",
       "            width=\"100%\"\n",
       "            height=\"650\"\n",
       "            src=\"http://127.0.0.1:8050/\"\n",
       "            frameborder=\"0\"\n",
       "            allowfullscreen\n",
       "            \n",
       "        ></iframe>\n",
       "        "
      ],
      "text/plain": [
       "<IPython.lib.display.IFrame at 0x7f55b41a36d0>"
      ]
     },
     "metadata": {},
     "output_type": "display_data"
    }
   ],
   "source": [
    "import datetime\n",
    "\n",
    "import dash\n",
    "from dash import Dash, dcc, html, Input, Output, callback\n",
    "import plotly\n",
    "import random \n",
    "\n",
    "# pip install pyorbital\n",
    "# from pyorbital.orbital import Orbital\n",
    "# satellite = Orbital('TERRA')\n",
    "\n",
    "external_stylesheets = ['https://codepen.io/chriddyp/pen/bWLwgP.css']\n",
    "\n",
    "app = Dash(__name__, external_stylesheets=external_stylesheets)\n",
    "app.layout = html.Div(\n",
    "    html.Div([\n",
    "        html.H4('TERRA Satellite Live Feed'),\n",
    "        html.Div(id='live-update-text'),\n",
    "        dcc.Graph(id='live-update-graph'),\n",
    "        dcc.Interval(\n",
    "            id='interval-component',\n",
    "            interval=1*1000, # in milliseconds\n",
    "            n_intervals=0\n",
    "        )\n",
    "    ])\n",
    ")\n",
    "\n",
    "\n",
    "@callback(Output('live-update-text', 'children'),\n",
    "              Input('interval-component', 'n_intervals'))\n",
    "def update_metrics(n):\n",
    "    # lon, lat, alt = satellite.get_lonlatalt(datetime.datetime.now())\n",
    "    lon = random.randrange(1,100)\n",
    "    lat = random.randrange(1,100)\n",
    "    alt = random.randrange(1,100)\n",
    "    style = {'padding': '5px', 'fontSize': '16px'}\n",
    "    print(alt)\n",
    "    return [\n",
    "        html.Span('Longitude: {0:.2f}'.format(lon), style=style),\n",
    "        html.Span('Latitude: {0:.2f}'.format(lat), style=style),\n",
    "        html.Span('Altitude: {0:0.2f}'.format(alt), style=style)\n",
    "    ]\n",
    "\n",
    "\n",
    "# Multiple components can update everytime interval gets fired.\n",
    "@callback(Output('live-update-graph', 'figure'),\n",
    "              Input('interval-component', 'n_intervals'))\n",
    "def update_graph_live(n):\n",
    "    # satellite = Orbital('TERRA')\n",
    "    data = {\n",
    "        'time': [],\n",
    "        'Latitude': [],\n",
    "        'Longitude': [],\n",
    "        'Altitude': []\n",
    "    }\n",
    "\n",
    "    # Collect some data\n",
    "    # for i in range(180):\n",
    "    time = datetime.datetime.now() - datetime.timedelta(seconds=i*20)\n",
    "        # print(time)\n",
    "        # # lon, lat, alt = satellite.get_lonlatalt(\n",
    "        # #     time\n",
    "        # # )\n",
    "    lon = random.randrange(1,100)\n",
    "    lat = random.randrange(1,100)\n",
    "    alt = random.randrange(1,100)\n",
    "    data['Longitude'].append(lon)\n",
    "    data['Latitude'].append(lat)\n",
    "    data['Altitude'].append(alt)\n",
    "    data['time'].append(time)\n",
    "    print(data)\n",
    "    # Create the graph with subplots\n",
    "    fig = plotly.tools.make_subplots(rows=2, cols=1, vertical_spacing=0.2)\n",
    "    fig = plotly.tools.make_subplots(rows=1, cols=1, vertical_spacing=0.2)\n",
    "    fig = plotly.subplots.make_subplots(rows=1, cols=1, vertical_spacing=0.2)\n",
    "    fig['layout']['margin'] = {\n",
    "        'l': 30, 'r': 10, 'b': 30, 't': 10\n",
    "    }\n",
    "    fig['layout']['legend'] = {'x': 0, 'y': 1, 'xanchor': 'left'}\n",
    "\n",
    "    fig.append_trace({\n",
    "        'x': data['time'],\n",
    "        'y': data['Altitude'],\n",
    "        'name': 'Altitude',\n",
    "        'mode': 'lines+markers',\n",
    "        'type': 'scatter'\n",
    "    }, 1, 1)\n",
    "    fig.append_trace({\n",
    "        'x': data['time'],\n",
    "        'y': data['Latitude'],\n",
    "        'text': data['time'],\n",
    "        'name': 'Latitude',\n",
    "        'mode': 'lines+markers',\n",
    "        'type': 'scatter'\n",
    "    }, 2, 1)\n",
    "\n",
    "    return fig\n",
    "\n",
    "\n",
    "if __name__ == '__main__':\n",
    "    app.run(debug=True)"
   ]
  }
 ],
 "metadata": {
  "kernelspec": {
   "display_name": "Python 3 (ipykernel)",
   "language": "python",
   "name": "python3"
  },
  "language_info": {
   "codemirror_mode": {
    "name": "ipython",
    "version": 3
   },
   "file_extension": ".py",
   "mimetype": "text/x-python",
   "name": "python",
   "nbconvert_exporter": "python",
   "pygments_lexer": "ipython3",
   "version": "3.10.12"
  }
 },
 "nbformat": 4,
 "nbformat_minor": 5
}
